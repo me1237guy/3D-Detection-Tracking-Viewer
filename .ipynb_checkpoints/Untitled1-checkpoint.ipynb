{
 "cells": [
  {
   "cell_type": "code",
   "execution_count": null,
   "id": "17f27228",
   "metadata": {},
   "outputs": [],
   "source": [
    "from viewer.viewer import Viewer\n",
    "import numpy as np\n",
    "from dataset.kitti_dataset import KittiDetectionDataset\n",
    "\n",
    "def kitti_viewer():\n",
    "    root=\"D:/kitti/training\"\n",
    "    label_path = \"D:/kitti/training/training/label_2\"\n",
    "    dataset = KittiDetectionDataset(root,label_path)\n",
    "\n",
    "    vi = Viewer(box_type=\"Kitti\")\n",
    "    vi.set_ob_color_map('gnuplot')\n",
    "\n",
    "    for i in range(len(dataset)):\n",
    "        P2, V2C, points, image, labels, label_names = dataset[i]\n",
    "\n",
    "        mask = label_names==\"Car\"\n",
    "        labels = labels[mask]\n",
    "        label_names = label_names[mask]\n",
    "\n",
    "        vi.add_points(points[:,:3],scatter_filed=points[:,2],color_map_name='viridis')\n",
    "        vi.add_3D_boxes(labels,box_info=label_names)\n",
    "        vi.add_3D_cars(labels, box_info=label_names)\n",
    "        vi.add_image(image)\n",
    "        vi.set_extrinsic_mat(V2C)\n",
    "        vi.set_intrinsic_mat(P2)\n",
    "        vi.show_2D()\n",
    "        vi.show_3D()\n",
    "\n",
    "\n",
    "if __name__ == '__main__':\n",
    "    kitti_viewer()\n"
   ]
  }
 ],
 "metadata": {
  "kernelspec": {
   "display_name": "Python 3 (ipykernel)",
   "language": "python",
   "name": "python3"
  },
  "language_info": {
   "codemirror_mode": {
    "name": "ipython",
    "version": 3
   },
   "file_extension": ".py",
   "mimetype": "text/x-python",
   "name": "python",
   "nbconvert_exporter": "python",
   "pygments_lexer": "ipython3",
   "version": "3.8.16"
  }
 },
 "nbformat": 4,
 "nbformat_minor": 5
}
