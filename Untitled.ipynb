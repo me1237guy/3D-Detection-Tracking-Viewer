{
 "cells": [
  {
   "cell_type": "code",
   "execution_count": null,
   "id": "b0cd898e",
   "metadata": {},
   "outputs": [],
   "source": [
    "from viewer.viewer import Viewer\n",
    "import numpy as np\n",
    "\n",
    "vi = Viewer() # set box_type='OpenPCDet' if you use OpenPCDet boxes\n",
    "len_dataset = 1000\n",
    "\n",
    "for i in range(len_dataset):\n",
    "    pseudo_boxes = np.array([[i*0.05, -1, 1, 1, 1, 1, 0], [i*0.05, 1, 1, 1, 1, 1, 0]]) # your boxes\n",
    "    ids = np.array([0,1]) # your boxes ids (optional)\n",
    "\n",
    "    pseudo_points = np.random.randn(100, 3) # your points\n",
    "\n",
    "    vi.add_points(pseudo_points, radius=4, scatter_filed=pseudo_points[:, 0])\n",
    "    vi.add_3D_boxes(pseudo_boxes, ids=ids,caption_size=(0.09,0.09))\n",
    "    vi.add_spheres(pseudo_boxes[:, 0:3],radius=0.03,res=10,color='red',del_after_show=False, alpha=1) # Draw motion track\n",
    "    vi.show_3D() # press the Enter key to view"
   ]
  },
  {
   "cell_type": "code",
   "execution_count": null,
   "id": "b372939a",
   "metadata": {},
   "outputs": [],
   "source": []
  }
 ],
 "metadata": {
  "kernelspec": {
   "display_name": "Python 3 (ipykernel)",
   "language": "python",
   "name": "python3"
  },
  "language_info": {
   "codemirror_mode": {
    "name": "ipython",
    "version": 3
   },
   "file_extension": ".py",
   "mimetype": "text/x-python",
   "name": "python",
   "nbconvert_exporter": "python",
   "pygments_lexer": "ipython3",
   "version": "3.8.16"
  }
 },
 "nbformat": 4,
 "nbformat_minor": 5
}
