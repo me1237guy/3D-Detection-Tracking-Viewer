{
 "cells": [
  {
   "cell_type": "code",
   "execution_count": 2,
   "id": "0957b678",
   "metadata": {},
   "outputs": [
    {
     "ename": "AttributeError",
     "evalue": "module 'numpy' has no attribute 'warnings'",
     "output_type": "error",
     "traceback": [
      "\u001b[1;31m---------------------------------------------------------------------------\u001b[0m",
      "\u001b[1;31mAttributeError\u001b[0m                            Traceback (most recent call last)",
      "Cell \u001b[1;32mIn[2], line 1\u001b[0m\n\u001b[1;32m----> 1\u001b[0m \u001b[38;5;28;01mfrom\u001b[39;00m \u001b[38;5;21;01mviewer\u001b[39;00m\u001b[38;5;21;01m.\u001b[39;00m\u001b[38;5;21;01mviewer\u001b[39;00m \u001b[38;5;28;01mimport\u001b[39;00m Viewer\n\u001b[0;32m      2\u001b[0m \u001b[38;5;28;01mimport\u001b[39;00m \u001b[38;5;21;01mnumpy\u001b[39;00m \u001b[38;5;28;01mas\u001b[39;00m \u001b[38;5;21;01mnp\u001b[39;00m\n\u001b[0;32m      3\u001b[0m \u001b[38;5;28;01mfrom\u001b[39;00m \u001b[38;5;21;01mdataset\u001b[39;00m\u001b[38;5;21;01m.\u001b[39;00m\u001b[38;5;21;01mkitti_dataset\u001b[39;00m \u001b[38;5;28;01mimport\u001b[39;00m KittiDetectionDataset\n",
      "File \u001b[1;32mD:\\python\\3D-Detection-Tracking-Viewer\\viewer\\viewer.py:2\u001b[0m\n\u001b[0;32m      1\u001b[0m \u001b[38;5;28;01mimport\u001b[39;00m \u001b[38;5;21;01mnumpy\u001b[39;00m \u001b[38;5;28;01mas\u001b[39;00m \u001b[38;5;21;01mnp\u001b[39;00m\n\u001b[1;32m----> 2\u001b[0m \u001b[38;5;28;01mfrom\u001b[39;00m \u001b[38;5;21;01mvedo\u001b[39;00m \u001b[38;5;28;01mimport\u001b[39;00m \u001b[38;5;241m*\u001b[39m\n\u001b[0;32m      3\u001b[0m \u001b[38;5;28;01mimport\u001b[39;00m \u001b[38;5;21;01mcv2\u001b[39;00m\n\u001b[0;32m      4\u001b[0m \u001b[38;5;28;01mimport\u001b[39;00m \u001b[38;5;21;01mvtk\u001b[39;00m\n",
      "File \u001b[1;32m~\\anaconda3\\envs\\kitti\\lib\\site-packages\\vedo\\__init__.py:47\u001b[0m\n\u001b[0;32m     44\u001b[0m \u001b[38;5;28;01mfrom\u001b[39;00m \u001b[38;5;21;01mnumpy\u001b[39;00m \u001b[38;5;28;01mimport\u001b[39;00m sin, cos, sqrt, exp, log, dot, cross, array\n\u001b[0;32m     46\u001b[0m \u001b[38;5;66;03m###########################################################################\u001b[39;00m\n\u001b[1;32m---> 47\u001b[0m \u001b[43msettings\u001b[49m\u001b[38;5;241;43m.\u001b[39;49m\u001b[43m_init\u001b[49m\u001b[43m(\u001b[49m\u001b[43m)\u001b[49m\n\u001b[0;32m     48\u001b[0m \u001b[38;5;66;03m###########################################################################\u001b[39;00m\n",
      "File \u001b[1;32m~\\anaconda3\\envs\\kitti\\lib\\site-packages\\vedo\\settings.py:600\u001b[0m, in \u001b[0;36m_init\u001b[1;34m()\u001b[0m\n\u001b[0;32m    597\u001b[0m fonts \u001b[38;5;241m=\u001b[39m \u001b[38;5;28mlist\u001b[39m(\u001b[38;5;28msorted\u001b[39m(fonts))\n\u001b[0;32m    599\u001b[0m warnings\u001b[38;5;241m.\u001b[39msimplefilter(action\u001b[38;5;241m=\u001b[39m\u001b[38;5;124m\"\u001b[39m\u001b[38;5;124mignore\u001b[39m\u001b[38;5;124m\"\u001b[39m, category\u001b[38;5;241m=\u001b[39m\u001b[38;5;167;01mFutureWarning\u001b[39;00m)\n\u001b[1;32m--> 600\u001b[0m \u001b[43mnp\u001b[49m\u001b[38;5;241;43m.\u001b[39;49m\u001b[43mwarnings\u001b[49m\u001b[38;5;241m.\u001b[39mfilterwarnings(\u001b[38;5;124m'\u001b[39m\u001b[38;5;124mignore\u001b[39m\u001b[38;5;124m'\u001b[39m, category\u001b[38;5;241m=\u001b[39mnp\u001b[38;5;241m.\u001b[39mVisibleDeprecationWarning) \n\u001b[0;32m    602\u001b[0m embedWindow()\n",
      "File \u001b[1;32m~\\anaconda3\\envs\\kitti\\lib\\site-packages\\numpy\\__init__.py:320\u001b[0m, in \u001b[0;36m__getattr__\u001b[1;34m(attr)\u001b[0m\n\u001b[0;32m    317\u001b[0m     \u001b[38;5;28;01mfrom\u001b[39;00m \u001b[38;5;21;01m.\u001b[39;00m\u001b[38;5;21;01mtesting\u001b[39;00m \u001b[38;5;28;01mimport\u001b[39;00m Tester\n\u001b[0;32m    318\u001b[0m     \u001b[38;5;28;01mreturn\u001b[39;00m Tester\n\u001b[1;32m--> 320\u001b[0m \u001b[38;5;28;01mraise\u001b[39;00m \u001b[38;5;167;01mAttributeError\u001b[39;00m(\u001b[38;5;124m\"\u001b[39m\u001b[38;5;124mmodule \u001b[39m\u001b[38;5;132;01m{!r}\u001b[39;00m\u001b[38;5;124m has no attribute \u001b[39m\u001b[38;5;124m\"\u001b[39m\n\u001b[0;32m    321\u001b[0m                      \u001b[38;5;124m\"\u001b[39m\u001b[38;5;132;01m{!r}\u001b[39;00m\u001b[38;5;124m\"\u001b[39m\u001b[38;5;241m.\u001b[39mformat(\u001b[38;5;18m__name__\u001b[39m, attr))\n",
      "\u001b[1;31mAttributeError\u001b[0m: module 'numpy' has no attribute 'warnings'"
     ]
    }
   ],
   "source": [
    "from viewer.viewer import Viewer\n",
    "import numpy as np\n",
    "from dataset.kitti_dataset import KittiDetectionDataset\n",
    "\n",
    "def kitti_viewer():\n",
    "    root=\"D:/kitti/training\"\n",
    "    label_path = \"D:/kitti/training/training/label_2\"\n",
    "    dataset = KittiDetectionDataset(root,label_path)\n",
    "\n",
    "    vi = Viewer(box_type=\"Kitti\")\n",
    "    vi.set_ob_color_map('gnuplot')\n",
    "\n",
    "    for i in range(len(dataset)):\n",
    "        P2, V2C, points, image, labels, label_names = dataset[i]\n",
    "\n",
    "        mask = label_names==\"Car\"\n",
    "        labels = labels[mask]\n",
    "        label_names = label_names[mask]\n",
    "\n",
    "        vi.add_points(points[:,:3],scatter_filed=points[:,2],color_map_name='viridis')\n",
    "        vi.add_3D_boxes(labels,box_info=label_names)\n",
    "        vi.add_3D_cars(labels, box_info=label_names)\n",
    "        vi.add_image(image)\n",
    "        vi.set_extrinsic_mat(V2C)\n",
    "        vi.set_intrinsic_mat(P2)\n",
    "        vi.show_2D()\n",
    "        vi.show_3D()\n",
    "\n",
    "\n",
    "if __name__ == '__main__':\n",
    "    kitti_viewer()\n"
   ]
  },
  {
   "cell_type": "code",
   "execution_count": null,
   "id": "990f18e7",
   "metadata": {},
   "outputs": [],
   "source": []
  },
  {
   "cell_type": "code",
   "execution_count": null,
   "id": "cca54989",
   "metadata": {},
   "outputs": [],
   "source": []
  }
 ],
 "metadata": {
  "kernelspec": {
   "display_name": "Python 3 (ipykernel)",
   "language": "python",
   "name": "python3"
  },
  "language_info": {
   "codemirror_mode": {
    "name": "ipython",
    "version": 3
   },
   "file_extension": ".py",
   "mimetype": "text/x-python",
   "name": "python",
   "nbconvert_exporter": "python",
   "pygments_lexer": "ipython3",
   "version": "3.8.16"
  }
 },
 "nbformat": 4,
 "nbformat_minor": 5
}
